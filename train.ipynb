{
 "cells": [
  {
   "cell_type": "markdown",
   "id": "4982fe52",
   "metadata": {},
   "source": [
    "## 1.处理数据"
   ]
  },
  {
   "cell_type": "code",
   "execution_count": null,
   "id": "4b0d596f",
   "metadata": {},
   "outputs": [],
   "source": [
    "mkdir -p /root/sft/Retrieval-based-Voice-Conversion-WebUI/logs/leijun "
   ]
  },
  {
   "cell_type": "code",
   "execution_count": null,
   "id": "4708a17a",
   "metadata": {},
   "outputs": [],
   "source": [
    "!python infer/modules/train/preprocess.py \\\n",
    "\"/root/sft/MSST-WebUI/results/leijun_25min/vocals_noreverb/\" \\\n",
    "40000 \\\n",
    "15 \\\n",
    "\"/root/sft/Retrieval-based-Voice-Conversion-WebUI/logs/leijun\" \\\n",
    "False \\\n",
    "3.7"
   ]
  },
  {
   "cell_type": "markdown",
   "id": "34858834",
   "metadata": {},
   "source": [
    "## 2.提取特征"
   ]
  },
  {
   "cell_type": "markdown",
   "id": "92c30cc1",
   "metadata": {},
   "source": [
    "### 2.1 提取f0"
   ]
  },
  {
   "cell_type": "code",
   "execution_count": null,
   "id": "c0e1c9d4",
   "metadata": {},
   "outputs": [],
   "source": [
    "!python \\\n",
    "    \"infer/modules/train/extract/extract_f0_rmvpe.py\" \\\n",
    "    1 \\\n",
    "    0 \\\n",
    "    0 \\\n",
    "    \"/root/sft/Retrieval-based-Voice-Conversion-WebUI/logs/leijun\" \\\n",
    "    True"
   ]
  },
  {
   "cell_type": "markdown",
   "id": "8798d283",
   "metadata": {},
   "source": [
    "### 2.2 提取feature"
   ]
  },
  {
   "cell_type": "code",
   "execution_count": null,
   "id": "ea79c080",
   "metadata": {},
   "outputs": [],
   "source": [
    "!python \\\n",
    "    \"infer/modules/train/extract_feature_print.py\" \\\n",
    "    \"cuda:0\" \\\n",
    "    1 \\\n",
    "    0 \\\n",
    "    0 \\\n",
    "    \"/root/sft/Retrieval-based-Voice-Conversion-WebUI/logs/leijun\" \\\n",
    "    \"v2\" \\\n",
    "    True"
   ]
  },
  {
   "cell_type": "markdown",
   "id": "971e135c",
   "metadata": {},
   "source": [
    "## 3.训练"
   ]
  },
  {
   "cell_type": "code",
   "execution_count": null,
   "id": "b9c1b1a5",
   "metadata": {},
   "outputs": [],
   "source": [
    "!python generate_filelist.py -e logs/leijun25min\n"
   ]
  },
  {
   "cell_type": "code",
   "execution_count": null,
   "id": "74c82f95",
   "metadata": {},
   "outputs": [],
   "source": [
    "!python \\\n",
    "    \"infer/modules/train/train.py\" \\\n",
    "    -e \"leijun25min\" \\\n",
    "    -sr 40k \\\n",
    "    -f0 1 \\\n",
    "    -bs 32 \\\n",
    "    -g 0 \\\n",
    "    -te 300 \\\n",
    "    -se 100 \\\n",
    "    -pg assets/pretrained_v2/f0G40k.pth \\\n",
    "    -pd assets/pretrained_v2/f0D40k.pth \\\n",
    "    -l 0 \\\n",
    "    -c 0 \\\n",
    "    -sw 0 \\\n",
    "    -v v2  \\\n",
    "\n"
   ]
  },
  {
   "cell_type": "markdown",
   "id": "dc90a397",
   "metadata": {},
   "source": [
    "### 3.1 训练索引"
   ]
  },
  {
   "cell_type": "code",
   "execution_count": null,
   "id": "be0bca73",
   "metadata": {},
   "outputs": [],
   "source": [
    "!python \\\n",
    "train_index.py\\\n",
    "-e leijun25min \\\n",
    "-v v2 \\\n",
    "-o /root/sft/Retrieval-based-Voice-Conversion-WebUI/assets/indices"
   ]
  },
  {
   "cell_type": "markdown",
   "id": "c25973e9",
   "metadata": {},
   "source": [
    "## 推理"
   ]
  },
  {
   "cell_type": "code",
   "execution_count": null,
   "id": "36089413",
   "metadata": {},
   "outputs": [],
   "source": [
    "!python tools/infer_cli.py \\\n",
    "  --input_path \"/root/sft/DDSP-SVC/input/31948473856-1-192_vocals_noreverb.wav\" \\\n",
    "  --opt_path \"output.wav\" \\\n",
    "  --model_name \"leijun25min.pth\" \\\n",
    "  --f0up_key -10 \\\n",
    "  --f0method \"rmvpe\" \\\n",
    "  --index_path \"/root/sft/Retrieval-based-Voice-Conversion-WebUI/assets/indices/leijun25min_IVF1673_Flat_nprobe_1_leijun25min_v2.index\" \\\n",
    "  --index_rate 0.75 \\\n",
    "  --device \"cuda:0\" \\\n",
    "  --is_half True\\\n",
    "  --rms_mix_rate 0.25"
   ]
  }
 ],
 "metadata": {
  "kernelspec": {
   "display_name": "rvc",
   "language": "python",
   "name": "python3"
  },
  "language_info": {
   "codemirror_mode": {
    "name": "ipython",
    "version": 3
   },
   "file_extension": ".py",
   "mimetype": "text/x-python",
   "name": "python",
   "nbconvert_exporter": "python",
   "pygments_lexer": "ipython3",
   "version": "3.10.18"
  }
 },
 "nbformat": 4,
 "nbformat_minor": 5
}
